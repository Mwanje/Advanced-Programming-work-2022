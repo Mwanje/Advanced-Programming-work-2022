{
 "cells": [
  {
   "cell_type": "markdown",
   "id": "a8180df8",
   "metadata": {},
   "source": [
    "# COVID-19 situation update worldwide"
   ]
  },
  {
   "cell_type": "markdown",
   "id": "64a95d36",
   "metadata": {},
   "source": [
    "# By Mwanje Musa 12/06/2022"
   ]
  },
  {
   "cell_type": "code",
   "execution_count": 1,
   "id": "c411110c",
   "metadata": {},
   "outputs": [
    {
     "name": "stdout",
     "output_type": "stream",
     "text": [
      "Requirement already satisfied: lxml in c:\\users\\user\\anaconda3\\lib\\site-packages (4.8.0)\n"
     ]
    }
   ],
   "source": [
    "!pip install lxml"
   ]
  },
  {
   "cell_type": "code",
   "execution_count": 2,
   "id": "3a0b04d0",
   "metadata": {},
   "outputs": [],
   "source": [
    "import requests\n",
    "import lxml.html as lh\n",
    "import pandas as pd \n",
    "import numpy as np\n",
    "import matplotlib.pyplot as plt"
   ]
  },
  {
   "cell_type": "code",
   "execution_count": 3,
   "id": "e68089b0",
   "metadata": {},
   "outputs": [
    {
     "data": {
      "text/plain": [
       "[6, 6, 6, 6, 6, 6, 6, 6, 6, 6, 6, 6]"
      ]
     },
     "execution_count": 3,
     "metadata": {},
     "output_type": "execute_result"
    }
   ],
   "source": [
    "covid_data ='https://www.ecdc.europa.eu/en/geographical-distribution-2019-ncov-cases'\n",
    "\n",
    "page =requests.get(covid_data)\n",
    "\n",
    "doc = lh.fromstring(page.content)\n",
    "\n",
    "tr_elements = doc.xpath('//tr')\n",
    "\n",
    "[len(T) for T in tr_elements[:12]]"
   ]
  },
  {
   "cell_type": "code",
   "execution_count": 7,
   "id": "9da0ac68",
   "metadata": {},
   "outputs": [
    {
     "name": "stdout",
     "output_type": "stream",
     "text": [
      "1:Region\n",
      "2:Places reporting cases\n",
      "3:Sum of Cases\n",
      "4:Sum of Deaths\n",
      "5:Confirmed cases during the 14-days\n",
      "\t\t\tof the reporting  period \n",
      "6:Reporting period\n",
      "\t\t\tYYYY-WW\n"
     ]
    }
   ],
   "source": [
    "#check the table header\n",
    "\n",
    "tr_elements = doc.xpath('//tr')\n",
    "\n",
    "col = []\n",
    "i = 0\n",
    "\n",
    "for t in tr_elements[0]:\n",
    "    i+=1\n",
    "    name=t.text_content()\n",
    "    print(\"%d:%s\" % (i,name))\n",
    "    col.append((name,[]))\n"
   ]
  },
  {
   "cell_type": "code",
   "execution_count": 13,
   "id": "b0b84b9a",
   "metadata": {},
   "outputs": [],
   "source": [
    "#Check the data in other rows\n",
    "for j in range(1,len(tr_elements)): # Because header is the first row, data would be store in the subsequent rows.\n",
    "    T = tr_elements[j] #T is j'th row\n",
    "    \n",
    "    if len(T)!=6: #if row is not size 3, //tr data is not from the table.\n",
    "        break\n",
    "        \n",
    "    i = 0 #i is the index of the first column\n",
    "    \n",
    "    for t in T.iterchildren(): #iterate through each element of the row\n",
    "        data=t.text_content()\n",
    "            \n",
    "        col[i][1].append(data) #append the data to the empty list of the i'th column\n",
    "            \n",
    "        i+=1 #increment i for the next column"
   ]
  },
  {
   "cell_type": "code",
   "execution_count": 14,
   "id": "fba5f87e",
   "metadata": {},
   "outputs": [
    {
     "data": {
      "text/plain": [
       "[224, 224, 224, 224, 224, 224]"
      ]
     },
     "execution_count": 14,
     "metadata": {},
     "output_type": "execute_result"
    }
   ],
   "source": [
    "#To see the No of Rows and Columns\n",
    "[len(C) for (title,C) in col]"
   ]
  },
  {
   "cell_type": "code",
   "execution_count": 15,
   "id": "4f62f5de",
   "metadata": {},
   "outputs": [],
   "source": [
    "#Create a dataframe and read the file\n",
    "Dict = {title:column for (title,column) in col}\n",
    "df = pd.DataFrame(Dict)"
   ]
  },
  {
   "cell_type": "code",
   "execution_count": 16,
   "id": "0b1185fb",
   "metadata": {},
   "outputs": [
    {
     "data": {
      "text/html": [
       "<div>\n",
       "<style scoped>\n",
       "    .dataframe tbody tr th:only-of-type {\n",
       "        vertical-align: middle;\n",
       "    }\n",
       "\n",
       "    .dataframe tbody tr th {\n",
       "        vertical-align: top;\n",
       "    }\n",
       "\n",
       "    .dataframe thead th {\n",
       "        text-align: right;\n",
       "    }\n",
       "</style>\n",
       "<table border=\"1\" class=\"dataframe\">\n",
       "  <thead>\n",
       "    <tr style=\"text-align: right;\">\n",
       "      <th></th>\n",
       "      <th>Region</th>\n",
       "      <th>Places reporting cases</th>\n",
       "      <th>Sum of Cases</th>\n",
       "      <th>Sum of Deaths</th>\n",
       "      <th>Confirmed cases during the 14-days\\n\\t\\t\\tof the reporting  period</th>\n",
       "      <th>Reporting period\\n\\t\\t\\tYYYY-WW</th>\n",
       "    </tr>\n",
       "  </thead>\n",
       "  <tbody>\n",
       "    <tr>\n",
       "      <th>0</th>\n",
       "      <td>Africa</td>\n",
       "      <td>Algeria</td>\n",
       "      <td>265897</td>\n",
       "      <td>6875</td>\n",
       "      <td>56</td>\n",
       "      <td>2022-21 and 2022-22</td>\n",
       "    </tr>\n",
       "    <tr>\n",
       "      <th>1</th>\n",
       "      <td></td>\n",
       "      <td>Angola</td>\n",
       "      <td>99761</td>\n",
       "      <td>1900</td>\n",
       "      <td>328</td>\n",
       "      <td>2022-21 and 2022-22</td>\n",
       "    </tr>\n",
       "    <tr>\n",
       "      <th>2</th>\n",
       "      <td></td>\n",
       "      <td>Benin</td>\n",
       "      <td>26952</td>\n",
       "      <td>163</td>\n",
       "      <td>0</td>\n",
       "      <td>2022-21 and 2022-22</td>\n",
       "    </tr>\n",
       "    <tr>\n",
       "      <th>3</th>\n",
       "      <td></td>\n",
       "      <td>Botswana</td>\n",
       "      <td>306716</td>\n",
       "      <td>2703</td>\n",
       "      <td>0</td>\n",
       "      <td>2022-21 and 2022-22</td>\n",
       "    </tr>\n",
       "    <tr>\n",
       "      <th>4</th>\n",
       "      <td></td>\n",
       "      <td>Burkina_Faso</td>\n",
       "      <td>20899</td>\n",
       "      <td>384</td>\n",
       "      <td>0</td>\n",
       "      <td>2022-21 and 2022-22</td>\n",
       "    </tr>\n",
       "  </tbody>\n",
       "</table>\n",
       "</div>"
      ],
      "text/plain": [
       "   Region Places reporting cases Sum of Cases Sum of Deaths  \\\n",
       "0  Africa                Algeria       265897          6875   \n",
       "1                         Angola        99761          1900   \n",
       "2                          Benin        26952           163   \n",
       "3                       Botswana       306716          2703   \n",
       "4                   Burkina_Faso        20899           384   \n",
       "\n",
       "  Confirmed cases during the 14-days\\n\\t\\t\\tof the reporting  period   \\\n",
       "0                                                 56                    \n",
       "1                                                328                    \n",
       "2                                                  0                    \n",
       "3                                                  0                    \n",
       "4                                                  0                    \n",
       "\n",
       "  Reporting period\\n\\t\\t\\tYYYY-WW  \n",
       "0             2022-21 and 2022-22  \n",
       "1             2022-21 and 2022-22  \n",
       "2             2022-21 and 2022-22  \n",
       "3             2022-21 and 2022-22  \n",
       "4             2022-21 and 2022-22  "
      ]
     },
     "execution_count": 16,
     "metadata": {},
     "output_type": "execute_result"
    }
   ],
   "source": [
    "df.head()"
   ]
  },
  {
   "cell_type": "code",
   "execution_count": 17,
   "id": "300f1319",
   "metadata": {},
   "outputs": [
    {
     "data": {
      "text/html": [
       "<div>\n",
       "<style scoped>\n",
       "    .dataframe tbody tr th:only-of-type {\n",
       "        vertical-align: middle;\n",
       "    }\n",
       "\n",
       "    .dataframe tbody tr th {\n",
       "        vertical-align: top;\n",
       "    }\n",
       "\n",
       "    .dataframe thead th {\n",
       "        text-align: right;\n",
       "    }\n",
       "</style>\n",
       "<table border=\"1\" class=\"dataframe\">\n",
       "  <thead>\n",
       "    <tr style=\"text-align: right;\">\n",
       "      <th></th>\n",
       "      <th>Region</th>\n",
       "      <th>Places reporting cases</th>\n",
       "      <th>Sum of Cases</th>\n",
       "      <th>Sum of Deaths</th>\n",
       "      <th>Confirmed cases during the 14-days\\n\\t\\t\\tof the reporting  period</th>\n",
       "      <th>Reporting period\\n\\t\\t\\tYYYY-WW</th>\n",
       "    </tr>\n",
       "  </thead>\n",
       "  <tbody>\n",
       "    <tr>\n",
       "      <th>219</th>\n",
       "      <td></td>\n",
       "      <td>Tuvalu</td>\n",
       "      <td>3</td>\n",
       "      <td>0</td>\n",
       "      <td>0</td>\n",
       "      <td>2022-21 and 2022-22</td>\n",
       "    </tr>\n",
       "    <tr>\n",
       "      <th>220</th>\n",
       "      <td></td>\n",
       "      <td>Vanuatu</td>\n",
       "      <td>10061</td>\n",
       "      <td>14</td>\n",
       "      <td>1379</td>\n",
       "      <td>2022-21 and 2022-22</td>\n",
       "    </tr>\n",
       "    <tr>\n",
       "      <th>221</th>\n",
       "      <td></td>\n",
       "      <td>Wallis_and_Futuna</td>\n",
       "      <td>454</td>\n",
       "      <td>7</td>\n",
       "      <td>0</td>\n",
       "      <td>2022-21 and 2022-22</td>\n",
       "    </tr>\n",
       "    <tr>\n",
       "      <th>222</th>\n",
       "      <td>Other</td>\n",
       "      <td>Cases_on_an_international_conveyance_Japan</td>\n",
       "      <td>705</td>\n",
       "      <td>6</td>\n",
       "      <td>0</td>\n",
       "      <td>2022-21 and 2022-22</td>\n",
       "    </tr>\n",
       "    <tr>\n",
       "      <th>223</th>\n",
       "      <td>Total</td>\n",
       "      <td></td>\n",
       "      <td>531470423</td>\n",
       "      <td>6318391</td>\n",
       "      <td>6705497</td>\n",
       "      <td></td>\n",
       "    </tr>\n",
       "  </tbody>\n",
       "</table>\n",
       "</div>"
      ],
      "text/plain": [
       "    Region                      Places reporting cases Sum of Cases  \\\n",
       "219                                             Tuvalu            3   \n",
       "220                                            Vanuatu        10061   \n",
       "221                                  Wallis_and_Futuna          454   \n",
       "222  Other  Cases_on_an_international_conveyance_Japan          705   \n",
       "223  Total                                                531470423   \n",
       "\n",
       "    Sum of Deaths  \\\n",
       "219             0   \n",
       "220            14   \n",
       "221             7   \n",
       "222             6   \n",
       "223       6318391   \n",
       "\n",
       "    Confirmed cases during the 14-days\\n\\t\\t\\tof the reporting  period   \\\n",
       "219                                                  0                    \n",
       "220                                               1379                    \n",
       "221                                                  0                    \n",
       "222                                                  0                    \n",
       "223                                            6705497                    \n",
       "\n",
       "    Reporting period\\n\\t\\t\\tYYYY-WW  \n",
       "219             2022-21 and 2022-22  \n",
       "220             2022-21 and 2022-22  \n",
       "221             2022-21 and 2022-22  \n",
       "222             2022-21 and 2022-22  \n",
       "223                                  "
      ]
     },
     "execution_count": 17,
     "metadata": {},
     "output_type": "execute_result"
    }
   ],
   "source": [
    "df.tail()"
   ]
  },
  {
   "cell_type": "code",
   "execution_count": 18,
   "id": "f236d715",
   "metadata": {},
   "outputs": [
    {
     "data": {
      "text/plain": [
       "(224, 6)"
      ]
     },
     "execution_count": 18,
     "metadata": {},
     "output_type": "execute_result"
    }
   ],
   "source": [
    "df.shape"
   ]
  },
  {
   "cell_type": "code",
   "execution_count": 19,
   "id": "edff9bb1",
   "metadata": {},
   "outputs": [
    {
     "data": {
      "text/html": [
       "<div>\n",
       "<style scoped>\n",
       "    .dataframe tbody tr th:only-of-type {\n",
       "        vertical-align: middle;\n",
       "    }\n",
       "\n",
       "    .dataframe tbody tr th {\n",
       "        vertical-align: top;\n",
       "    }\n",
       "\n",
       "    .dataframe thead th {\n",
       "        text-align: right;\n",
       "    }\n",
       "</style>\n",
       "<table border=\"1\" class=\"dataframe\">\n",
       "  <thead>\n",
       "    <tr style=\"text-align: right;\">\n",
       "      <th></th>\n",
       "      <th>Region</th>\n",
       "      <th>Places reporting cases</th>\n",
       "      <th>Sum of Cases</th>\n",
       "      <th>Sum of Deaths</th>\n",
       "      <th>Confirmed cases during the 14-days\\n\\t\\t\\tof the reporting  period</th>\n",
       "      <th>Reporting period\\n\\t\\t\\tYYYY-WW</th>\n",
       "    </tr>\n",
       "  </thead>\n",
       "  <tbody>\n",
       "    <tr>\n",
       "      <th>1</th>\n",
       "      <td></td>\n",
       "      <td>Angola</td>\n",
       "      <td>99761</td>\n",
       "      <td>1900</td>\n",
       "      <td>328</td>\n",
       "      <td>2022-21 and 2022-22</td>\n",
       "    </tr>\n",
       "    <tr>\n",
       "      <th>2</th>\n",
       "      <td></td>\n",
       "      <td>Benin</td>\n",
       "      <td>26952</td>\n",
       "      <td>163</td>\n",
       "      <td>0</td>\n",
       "      <td>2022-21 and 2022-22</td>\n",
       "    </tr>\n",
       "    <tr>\n",
       "      <th>3</th>\n",
       "      <td></td>\n",
       "      <td>Botswana</td>\n",
       "      <td>306716</td>\n",
       "      <td>2703</td>\n",
       "      <td>0</td>\n",
       "      <td>2022-21 and 2022-22</td>\n",
       "    </tr>\n",
       "    <tr>\n",
       "      <th>4</th>\n",
       "      <td></td>\n",
       "      <td>Burkina_Faso</td>\n",
       "      <td>20899</td>\n",
       "      <td>384</td>\n",
       "      <td>0</td>\n",
       "      <td>2022-21 and 2022-22</td>\n",
       "    </tr>\n",
       "    <tr>\n",
       "      <th>5</th>\n",
       "      <td></td>\n",
       "      <td>Burundi</td>\n",
       "      <td>42248</td>\n",
       "      <td>15</td>\n",
       "      <td>642</td>\n",
       "      <td>2022-21 and 2022-22</td>\n",
       "    </tr>\n",
       "  </tbody>\n",
       "</table>\n",
       "</div>"
      ],
      "text/plain": [
       "  Region Places reporting cases Sum of Cases Sum of Deaths  \\\n",
       "1                        Angola        99761          1900   \n",
       "2                         Benin        26952           163   \n",
       "3                      Botswana       306716          2703   \n",
       "4                  Burkina_Faso        20899           384   \n",
       "5                       Burundi        42248            15   \n",
       "\n",
       "  Confirmed cases during the 14-days\\n\\t\\t\\tof the reporting  period   \\\n",
       "1                                                328                    \n",
       "2                                                  0                    \n",
       "3                                                  0                    \n",
       "4                                                  0                    \n",
       "5                                                642                    \n",
       "\n",
       "  Reporting period\\n\\t\\t\\tYYYY-WW  \n",
       "1             2022-21 and 2022-22  \n",
       "2             2022-21 and 2022-22  \n",
       "3             2022-21 and 2022-22  \n",
       "4             2022-21 and 2022-22  \n",
       "5             2022-21 and 2022-22  "
      ]
     },
     "execution_count": 19,
     "metadata": {},
     "output_type": "execute_result"
    }
   ],
   "source": [
    "#Remove row 0\n",
    "dfc =df.drop([df.index[0]])\n",
    "dfc.head()"
   ]
  },
  {
   "cell_type": "code",
   "execution_count": 20,
   "id": "e9d186f3",
   "metadata": {},
   "outputs": [
    {
     "data": {
      "text/plain": [
       "Region                                                                 object\n",
       "Places reporting cases                                                 object\n",
       "Sum of Cases                                                           object\n",
       "Sum of Deaths                                                          object\n",
       "Confirmed cases during the 14-days\\n\\t\\t\\tof the reporting  period     object\n",
       "Reporting period\\n\\t\\t\\tYYYY-WW                                        object\n",
       "dtype: object"
      ]
     },
     "execution_count": 20,
     "metadata": {},
     "output_type": "execute_result"
    }
   ],
   "source": [
    "dfc.dtypes"
   ]
  },
  {
   "cell_type": "markdown",
   "id": "849f766a",
   "metadata": {},
   "source": [
    "# Plot Chars and Graphs"
   ]
  },
  {
   "cell_type": "code",
   "execution_count": 65,
   "id": "fc346608",
   "metadata": {
    "scrolled": true
   },
   "outputs": [
    {
     "data": {
      "text/plain": [
       "Text(0.5, 1.0, 'Confirmed cases per Region for Period of 2022-21 and 2022-22')"
      ]
     },
     "execution_count": 65,
     "metadata": {},
     "output_type": "execute_result"
    },
    {
     "data": {
      "image/png": "[encoded data removed]",
      "text/plain": [
       "<Figure size 432x288 with 1 Axes>"
      ]
     },
     "metadata": {
      "needs_background": "light"
     },
     "output_type": "display_data"
    }
   ],
   "source": [
    "plt.pyplot.hist(dfc[\"Region\"])\n",
    "\n",
    "# set x/y labels and plot title\n",
    "plt.pyplot.xlabel(\"Region\")\n",
    "plt.pyplot.ylabel(\"sum of cases\")\n",
    "plt.pyplot.title(\"Confirmed cases per Region for Period of 2022-21 and 2022-22\")"
   ]
  },
  {
   "cell_type": "code",
   "execution_count": 66,
   "id": "71cddeb2",
   "metadata": {},
   "outputs": [
    {
     "data": {
      "text/plain": [
       "Text(0.5, 1.0, 'Distribution of COVID-19 deaths, worldwide, as of week 22 2022')"
      ]
     },
     "execution_count": 66,
     "metadata": {},
     "output_type": "execute_result"
    },
    {
     "data": {
      "image/png": "[encoded data removed]",
      "text/plain": [
       "<Figure size 432x288 with 1 Axes>"
      ]
     },
     "metadata": {
      "needs_background": "light"
     },
     "output_type": "display_data"
    }
   ],
   "source": [
    "plt.pyplot.hist(dfc[\"Region\"])\n",
    "plt.pyplot.xlabel(\"Places reporting cases\")\n",
    "plt.pyplot.ylabel(\"sum of deaths\")\n",
    "plt.pyplot.title(\"Distribution of COVID-19 deaths, worldwide, as of week 22 2022\")"
   ]
  },
  {
   "cell_type": "code",
   "execution_count": null,
   "id": "5255bef2",
   "metadata": {},
   "outputs": [],
   "source": []
  }
 ],
 "metadata": {
  "kernelspec": {
   "display_name": "Python 3 (ipykernel)",
   "language": "python",
   "name": "python3"
  },
  "language_info": {
   "codemirror_mode": {
    "name": "ipython",
    "version": 3
   },
   "file_extension": ".py",
   "mimetype": "text/x-python",
   "name": "python",
   "nbconvert_exporter": "python",
   "pygments_lexer": "ipython3",
   "version": "3.9.12"
  }
 },
 "nbformat": 4,
 "nbformat_minor": 5
}
